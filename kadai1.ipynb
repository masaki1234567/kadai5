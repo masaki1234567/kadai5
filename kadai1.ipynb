{
 "cells": [
  {
   "cell_type": "markdown",
   "id": "0336cd4f",
   "metadata": {},
   "source": [
    "# 課題5 ネットワーク可視化ツールの自動操作\n",
    "**学生番号：38121075　氏名：樋口正輝**"
   ]
  },
  {
   "cell_type": "markdown",
   "id": "ada71756",
   "metadata": {},
   "source": [
    "## 課題概要\n",
    "ネットワーク可視化ツールであるCytoscapeは通常GUIで操作するが，Web APIと同じような形式で操作するインターフェースが用意されていて，\n",
    "このAPIはPythonのプログラムから実行できる．異なるネットワークをそれぞれ可視化する作業を自動化するプログラムをPythonで作成する．\n",
    "\n",
    "## 報告内容\n",
    "1. 技術の紹介\n",
    "  - Cytoscapeの紹介\n",
    "  - CyRESTの使い方の紹介\n",
    "  - py4cytoscapeの紹介\n",
    "2. タスクを実行するpythonプログラムの紹介\n",
    "  - ネットワークをファイルからインポート\n",
    "  - ノード属性ファイルをファイルからインポート\n",
    "  - ノードの色を所属ごとに変える\n",
    "  - ノードの枠線をコミュニティごとに変える\n",
    "  - Styleタブをいじって見栄えをよくする\n",
    "  - 他のファイルに関しても同じStyleで可視化させる\n",
    "3. 感想"
   ]
  },
  {
   "cell_type": "markdown",
   "id": "76975f04",
   "metadata": {},
   "source": [
    "# Cytoscapeの紹介"
   ]
  },
  {
   "cell_type": "markdown",
   "id": "8b11c10b",
   "metadata": {},
   "source": [
    "系統図やグラフを作成したいときに便利なツールです。\n",
    "\n",
    "もともとは生物学的研究のために設計されましたが現在では複雑なネットワークの解析と可視化を行うための汎用的なプラットフォームとして広く利用されています。\n",
    "\n",
    "Cytoscape のコア配布パッケージには、データの統合・解析・可視化のための基本的な機能が含まれています。\n",
    "\n",
    "それに加えて、Cytoscape Apps によって機能を拡張することができます。\n",
    "以下のような機能が拡張することができます。\n",
    "- ネットワークおよび分子プロファイリング解析\n",
    "- 新しいレイアウト\n",
    "- 追加のファイルフォーマット対応\n",
    "- スクリプト実行機能\n",
    "- データベースとの接続"
   ]
  },
  {
   "cell_type": "markdown",
   "id": "2b818c0f",
   "metadata": {},
   "source": [
    "# CyRESTの使い方の紹介"
   ]
  },
  {
   "cell_type": "markdown",
   "id": "3c4d35b8",
   "metadata": {},
   "source": [
    "Cytoscapeを起動したときに、CyREST APIという機能が有効になります。\n",
    "\n",
    "Cytoscapeがhttp://localhost:1234にWebサーバーを立てることで、そこにコマンドを投げればCytoscapeが他のアプリからであっても操作できるようになります。\n",
    "\n",
    "以下のようにコマンドを入れることでCytoscapeが自動でグラフを作ってくれます"
   ]
  },
  {
   "cell_type": "code",
   "execution_count": null,
   "id": "0ad4a889",
   "metadata": {},
   "outputs": [],
   "source": [
    "##この部分でAPIのアドレスを指定しています.ここではimport fileコマンドを指定\n",
    "$uri = \"http://localhost:1234/v1/commands/network/import file\" \n",
    "\n",
    "##ここでコマンドの実行に必要な項目を指定しています。\n",
    "$body = '{\n",
    "\"columnTypeList\": \"ea, s, t, ea\",\n",
    "\"dataTypeList\": \"s, s, s, s\",\n",
    "\"file\": \"C:/temp/nobita.xlsx\",\n",
    "\"firstRowAsColumnNames\": \"true\",\n",
    "\"indexColumnSourceInteraction\": \"2\",\n",
    "\"indexColumnTargetInteraction\": \"3\",\n",
    "\"indexColumnTypeInteraction\": \"4\",\n",
    "\"startLoadRow\": \"1\"\n",
    "}'\n",
    "\n",
    "##これがAPIにリクエストを送信している部分です.オプションが多くて読みづらいってときは、いいところで改行して行末に「`」を付けると、１つのコマンドとして処理してくれます。\n",
    "Invoke-WebRequest -Method Post `\n",
    "-Headers @{\"Content-Type\" = \"application/json\" ;\"Accept\"= \"application/json\"} `\n",
    "-Body $body `\n",
    "-Uri $uri\n",
    "\n",
    "##最後の行に処理待ちのタイマーを入れてみました。秒数指定なので、この場合だと１秒待ちです。\n",
    "sleep 1"
   ]
  },
  {
   "cell_type": "markdown",
   "id": "db7156b5",
   "metadata": {},
   "source": [
    "# py4cytoscapeの紹介"
   ]
  },
  {
   "cell_type": "markdown",
   "id": "d1f551c9",
   "metadata": {},
   "source": [
    "py4cytoscape は、Cytoscape とその REST API を通じて通信する Python パッケージであり、スタンドアロンの環境や Jupyter Notebook 環境から Cytoscape を制御するための 250 を超える関数にアクセスできます。\n",
    "\n",
    "py4cytoscape が提供する機能：\n",
    "\n",
    "ネットワーク生物学に特化したワークフローを Python で実装するための関数群\n",
    "\n",
    "Cytoscape Automation プロトコルを実装した、ユーザー作成の Cytoscape App へのアクセス\n",
    "\n",
    "Python ベースのワークフローを迅速に開発・保守・監査するためのログ記録およびデバッグ機能\n",
    "\n",
    "igraph および NetworkX のグラフパッケージ間の双方向変換による、PyPI などの公開リポジトリにある人気パッケージとの互換性\n",
    "\n",
    "Python 内で生成された、あるいは STRING や NDEx などの公開リポジトリにある大規模データセットとのスムーズな連携\n",
    "\n",
    "Cytoscape のワークステーション上やローカル／リモートサーバー上の Jupyter Notebook から Python コードを実行可能\n",
    "\n",
    "py4cytoscape を使用することで、以下のことが可能になります：\n",
    "\n",
    "標準または非標準フォーマットのネットワークの読み込みおよび保存\n",
    "\n",
    "分子間相互作用ネットワークや生物学的経路の可視化\n",
    "\n",
    "アノテーション、遺伝子発現プロファイル、その他の状態データとの統合\n",
    "\n",
    "統合データに基づいたネットワークの解析・プロファイリング・クラスタリング（新規および既存アルゴリズムを使用）\n",
    "\n",
    "py4cytoscape は Cytoscape、Python ライブラリ、および独自の Python コードとの柔軟な連携を可能にし、監査可能・再現可能・共有可能なワークフローを実現します。"
   ]
  }
 ],
 "metadata": {
  "kernelspec": {
   "display_name": ".venv1",
   "language": "python",
   "name": "python3"
  },
  "language_info": {
   "name": "python",
   "version": "3.12.3"
  }
 },
 "nbformat": 4,
 "nbformat_minor": 5
}
