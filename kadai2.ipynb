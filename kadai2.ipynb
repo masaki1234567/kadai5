{
 "cells": [
  {
   "cell_type": "markdown",
   "id": "d319808b",
   "metadata": {},
   "source": [
    "# Pythonプログラムの解説"
   ]
  },
  {
   "cell_type": "markdown",
   "id": "87831d96",
   "metadata": {},
   "source": [
    "## 参考にしたコード\n",
    "\n",
    "- ノードの形・色・枠線の変更\n",
    "\n",
    "https://github.com/cytoscape/cytoscape-automation/blob/master/for-scripters/Python/Overview-of-py4cytoscape.ipynb\n",
    "\n",
    "- ファイルのインポート\n",
    "\n",
    "https://github.com/cytoscape/cytoscape-automation/blob/master/for-scripters/Python/importing-data-from-tables.ipynb\n",
    "https://github.com/cytoscape/cytoscape-automation/blob/master/for-scripters/Python/importing-network-from-table.ipynb"
   ]
  },
  {
   "cell_type": "markdown",
   "id": "d0a72b32",
   "metadata": {},
   "source": [
    "## 実行環境\n",
    "- Python 3.10.4\n",
    "- Cytoscape 3.11.0-SNAPSHOT\n",
    "- py4cytoscape 1.11.0"
   ]
  },
  {
   "cell_type": "markdown",
   "id": "33073213",
   "metadata": {},
   "source": [
    "## Jupyter-Bridge をセットアップ\n",
    "\n",
    "Cytoscape と Jupyter 環境を橋渡しするための設定（jupyter-bridge）をします。\n",
    "\n",
    "具体的には、ローカルの Cytoscape とリモートの Notebook の間で通信可能にする JavaScript と Python の仕組みが読み込まれます。\n",
    "\n"
   ]
  },
  {
   "cell_type": "code",
   "execution_count": 1,
   "id": "14983824",
   "metadata": {},
   "outputs": [
    {
     "data": {
      "text/html": [
       "<pre style=\"white-space:pre;overflow-x:auto;line-height:normal;font-family:Menlo,'DejaVu Sans Mono',consolas,'Courier New',monospace\">Requirement already satisfied: py4cytoscape in c:\\users\\bb38121075\\appdata\\roaming\\python\\python310\\site-packages (1.12.0)\n",
       "</pre>\n"
      ],
      "text/plain": [
       "Requirement already satisfied: py4cytoscape in c:\\users\\bb38121075\\appdata\\roaming\\python\\python310\\site-packages (1.12.0)\n"
      ]
     },
     "metadata": {},
     "output_type": "display_data"
    },
    {
     "data": {
      "text/html": [
       "<pre style=\"white-space:pre;overflow-x:auto;line-height:normal;font-family:Menlo,'DejaVu Sans Mono',consolas,'Courier New',monospace\">Requirement already satisfied: pandas in c:\\users\\bb38121075\\appdata\\local\\programs\\python\\python310\\lib\\site-packages (from py4cytoscape) (1.4.3)\n",
       "</pre>\n"
      ],
      "text/plain": [
       "Requirement already satisfied: pandas in c:\\users\\bb38121075\\appdata\\local\\programs\\python\\python310\\lib\\site-packages (from py4cytoscape) (1.4.3)\n"
      ]
     },
     "metadata": {},
     "output_type": "display_data"
    },
    {
     "data": {
      "text/html": [
       "<pre style=\"white-space:pre;overflow-x:auto;line-height:normal;font-family:Menlo,'DejaVu Sans Mono',consolas,'Courier New',monospace\">Requirement already satisfied: networkx in c:\\users\\bb38121075\\appdata\\roaming\\python\\python310\\site-packages (from py4cytoscape) (3.4.2)\n",
       "</pre>\n"
      ],
      "text/plain": [
       "Requirement already satisfied: networkx in c:\\users\\bb38121075\\appdata\\roaming\\python\\python310\\site-packages (from py4cytoscape) (3.4.2)\n"
      ]
     },
     "metadata": {},
     "output_type": "display_data"
    },
    {
     "data": {
      "text/html": [
       "<pre style=\"white-space:pre;overflow-x:auto;line-height:normal;font-family:Menlo,'DejaVu Sans Mono',consolas,'Courier New',monospace\">Requirement already satisfied: requests in c:\\users\\bb38121075\\appdata\\local\\programs\\python\\python310\\lib\\site-packages (from py4cytoscape) (2.32.3)\n",
       "</pre>\n"
      ],
      "text/plain": [
       "Requirement already satisfied: requests in c:\\users\\bb38121075\\appdata\\local\\programs\\python\\python310\\lib\\site-packages (from py4cytoscape) (2.32.3)\n"
      ]
     },
     "metadata": {},
     "output_type": "display_data"
    },
    {
     "data": {
      "text/html": [
       "<pre style=\"white-space:pre;overflow-x:auto;line-height:normal;font-family:Menlo,'DejaVu Sans Mono',consolas,'Courier New',monospace\">Requirement already satisfied: igraph in c:\\users\\bb38121075\\appdata\\roaming\\python\\python310\\site-packages (from py4cytoscape) (0.11.8)\n",
       "</pre>\n"
      ],
      "text/plain": [
       "Requirement already satisfied: igraph in c:\\users\\bb38121075\\appdata\\roaming\\python\\python310\\site-packages (from py4cytoscape) (0.11.8)\n"
      ]
     },
     "metadata": {},
     "output_type": "display_data"
    },
    {
     "data": {
      "text/html": [
       "<pre style=\"white-space:pre;overflow-x:auto;line-height:normal;font-family:Menlo,'DejaVu Sans Mono',consolas,'Courier New',monospace\">Requirement already satisfied: colorbrewer in c:\\users\\bb38121075\\appdata\\roaming\\python\\python310\\site-packages (from py4cytoscape) (0.3)\n",
       "</pre>\n"
      ],
      "text/plain": [
       "Requirement already satisfied: colorbrewer in c:\\users\\bb38121075\\appdata\\roaming\\python\\python310\\site-packages (from py4cytoscape) (0.3)\n"
      ]
     },
     "metadata": {},
     "output_type": "display_data"
    },
    {
     "data": {
      "text/html": [
       "<pre style=\"white-space:pre;overflow-x:auto;line-height:normal;font-family:Menlo,'DejaVu Sans Mono',consolas,'Courier New',monospace\">Requirement already satisfied: chardet in c:\\users\\bb38121075\\appdata\\roaming\\python\\python310\\site-packages (from py4cytoscape) (5.2.0)\n",
       "</pre>\n"
      ],
      "text/plain": [
       "Requirement already satisfied: chardet in c:\\users\\bb38121075\\appdata\\roaming\\python\\python310\\site-packages (from py4cytoscape) (5.2.0)\n"
      ]
     },
     "metadata": {},
     "output_type": "display_data"
    },
    {
     "data": {
      "text/html": [
       "<pre style=\"white-space:pre;overflow-x:auto;line-height:normal;font-family:Menlo,'DejaVu Sans Mono',consolas,'Courier New',monospace\">Requirement already satisfied: decorator in c:\\users\\bb38121075\\appdata\\local\\programs\\python\\python310\\lib\\site-packages (from py4cytoscape) (5.1.0)\n",
       "</pre>\n"
      ],
      "text/plain": [
       "Requirement already satisfied: decorator in c:\\users\\bb38121075\\appdata\\local\\programs\\python\\python310\\lib\\site-packages (from py4cytoscape) (5.1.0)\n"
      ]
     },
     "metadata": {},
     "output_type": "display_data"
    },
    {
     "data": {
      "text/html": [
       "<pre style=\"white-space:pre;overflow-x:auto;line-height:normal;font-family:Menlo,'DejaVu Sans Mono',consolas,'Courier New',monospace\">Requirement already satisfied: backoff in c:\\users\\bb38121075\\appdata\\roaming\\python\\python310\\site-packages (from py4cytoscape) (2.2.1)\n",
       "</pre>\n"
      ],
      "text/plain": [
       "Requirement already satisfied: backoff in c:\\users\\bb38121075\\appdata\\roaming\\python\\python310\\site-packages (from py4cytoscape) (2.2.1)\n"
      ]
     },
     "metadata": {},
     "output_type": "display_data"
    },
    {
     "data": {
      "text/html": [
       "<pre style=\"white-space:pre;overflow-x:auto;line-height:normal;font-family:Menlo,'DejaVu Sans Mono',consolas,'Courier New',monospace\">Requirement already satisfied: colour in c:\\users\\bb38121075\\appdata\\roaming\\python\\python310\\site-packages (from py4cytoscape) (0.1.5)\n",
       "</pre>\n"
      ],
      "text/plain": [
       "Requirement already satisfied: colour in c:\\users\\bb38121075\\appdata\\roaming\\python\\python310\\site-packages (from py4cytoscape) (0.1.5)\n"
      ]
     },
     "metadata": {},
     "output_type": "display_data"
    },
    {
     "data": {
      "text/html": [
       "<pre style=\"white-space:pre;overflow-x:auto;line-height:normal;font-family:Menlo,'DejaVu Sans Mono',consolas,'Courier New',monospace\">Requirement already satisfied: texttable&gt;=1.6.2 in c:\\users\\bb38121075\\appdata\\roaming\\python\\python310\\site-packages (from igraph-&gt;py4cytoscape) (1.7.0)\n",
       "</pre>\n"
      ],
      "text/plain": [
       "Requirement already satisfied: texttable>=1.6.2 in c:\\users\\bb38121075\\appdata\\roaming\\python\\python310\\site-packages (from igraph->py4cytoscape) (1.7.0)\n"
      ]
     },
     "metadata": {},
     "output_type": "display_data"
    },
    {
     "data": {
      "text/html": [
       "<pre style=\"white-space:pre;overflow-x:auto;line-height:normal;font-family:Menlo,'DejaVu Sans Mono',consolas,'Courier New',monospace\">Requirement already satisfied: python-dateutil&gt;=2.8.1 in c:\\users\\bb38121075\\appdata\\local\\programs\\python\\python310\\lib\\site-packages (from pandas-&gt;py4cytoscape) (2.8.2)\n",
       "</pre>\n"
      ],
      "text/plain": [
       "Requirement already satisfied: python-dateutil>=2.8.1 in c:\\users\\bb38121075\\appdata\\local\\programs\\python\\python310\\lib\\site-packages (from pandas->py4cytoscape) (2.8.2)\n"
      ]
     },
     "metadata": {},
     "output_type": "display_data"
    },
    {
     "data": {
      "text/html": [
       "<pre style=\"white-space:pre;overflow-x:auto;line-height:normal;font-family:Menlo,'DejaVu Sans Mono',consolas,'Courier New',monospace\">Requirement already satisfied: pytz&gt;=2020.1 in c:\\users\\bb38121075\\appdata\\local\\programs\\python\\python310\\lib\\site-packages (from pandas-&gt;py4cytoscape) (2022.2.1)\n",
       "</pre>\n"
      ],
      "text/plain": [
       "Requirement already satisfied: pytz>=2020.1 in c:\\users\\bb38121075\\appdata\\local\\programs\\python\\python310\\lib\\site-packages (from pandas->py4cytoscape) (2022.2.1)\n"
      ]
     },
     "metadata": {},
     "output_type": "display_data"
    },
    {
     "data": {
      "text/html": [
       "<pre style=\"white-space:pre;overflow-x:auto;line-height:normal;font-family:Menlo,'DejaVu Sans Mono',consolas,'Courier New',monospace\">Requirement already satisfied: numpy&gt;=1.21.0 in c:\\users\\bb38121075\\appdata\\local\\programs\\python\\python310\\lib\\site-packages (from pandas-&gt;py4cytoscape) (1.23.2)\n",
       "</pre>\n"
      ],
      "text/plain": [
       "Requirement already satisfied: numpy>=1.21.0 in c:\\users\\bb38121075\\appdata\\local\\programs\\python\\python310\\lib\\site-packages (from pandas->py4cytoscape) (1.23.2)\n"
      ]
     },
     "metadata": {},
     "output_type": "display_data"
    },
    {
     "data": {
      "text/html": [
       "<pre style=\"white-space:pre;overflow-x:auto;line-height:normal;font-family:Menlo,'DejaVu Sans Mono',consolas,'Courier New',monospace\">Requirement already satisfied: six&gt;=1.5 in c:\\users\\bb38121075\\appdata\\local\\programs\\python\\python310\\lib\\site-packages (from python-dateutil&gt;=2.8.1-&gt;pandas-&gt;py4cytoscape) (1.16.0)\n",
       "</pre>\n"
      ],
      "text/plain": [
       "Requirement already satisfied: six>=1.5 in c:\\users\\bb38121075\\appdata\\local\\programs\\python\\python310\\lib\\site-packages (from python-dateutil>=2.8.1->pandas->py4cytoscape) (1.16.0)\n"
      ]
     },
     "metadata": {},
     "output_type": "display_data"
    },
    {
     "data": {
      "text/html": [
       "<pre style=\"white-space:pre;overflow-x:auto;line-height:normal;font-family:Menlo,'DejaVu Sans Mono',consolas,'Courier New',monospace\">Requirement already satisfied: charset-normalizer&lt;4,&gt;=2 in c:\\users\\bb38121075\\appdata\\local\\programs\\python\\python310\\lib\\site-packages (from requests-&gt;py4cytoscape) (2.0.12)\n",
       "</pre>\n"
      ],
      "text/plain": [
       "Requirement already satisfied: charset-normalizer<4,>=2 in c:\\users\\bb38121075\\appdata\\local\\programs\\python\\python310\\lib\\site-packages (from requests->py4cytoscape) (2.0.12)\n"
      ]
     },
     "metadata": {},
     "output_type": "display_data"
    },
    {
     "data": {
      "text/html": [
       "<pre style=\"white-space:pre;overflow-x:auto;line-height:normal;font-family:Menlo,'DejaVu Sans Mono',consolas,'Courier New',monospace\">Requirement already satisfied: idna&lt;4,&gt;=2.5 in c:\\users\\bb38121075\\appdata\\local\\programs\\python\\python310\\lib\\site-packages (from requests-&gt;py4cytoscape) (3.3)\n",
       "</pre>\n"
      ],
      "text/plain": [
       "Requirement already satisfied: idna<4,>=2.5 in c:\\users\\bb38121075\\appdata\\local\\programs\\python\\python310\\lib\\site-packages (from requests->py4cytoscape) (3.3)\n"
      ]
     },
     "metadata": {},
     "output_type": "display_data"
    },
    {
     "data": {
      "text/html": [
       "<pre style=\"white-space:pre;overflow-x:auto;line-height:normal;font-family:Menlo,'DejaVu Sans Mono',consolas,'Courier New',monospace\">Requirement already satisfied: urllib3&lt;3,&gt;=1.21.1 in c:\\users\\bb38121075\\appdata\\local\\programs\\python\\python310\\lib\\site-packages (from requests-&gt;py4cytoscape) (1.26.9)\n",
       "</pre>\n"
      ],
      "text/plain": [
       "Requirement already satisfied: urllib3<3,>=1.21.1 in c:\\users\\bb38121075\\appdata\\local\\programs\\python\\python310\\lib\\site-packages (from requests->py4cytoscape) (1.26.9)\n"
      ]
     },
     "metadata": {},
     "output_type": "display_data"
    },
    {
     "data": {
      "text/html": [
       "<pre style=\"white-space:pre;overflow-x:auto;line-height:normal;font-family:Menlo,'DejaVu Sans Mono',consolas,'Courier New',monospace\">Requirement already satisfied: certifi&gt;=2017.4.17 in c:\\users\\bb38121075\\appdata\\local\\programs\\python\\python310\\lib\\site-packages (from requests-&gt;py4cytoscape) (2021.10.8)\n",
       "</pre>\n"
      ],
      "text/plain": [
       "Requirement already satisfied: certifi>=2017.4.17 in c:\\users\\bb38121075\\appdata\\local\\programs\\python\\python310\\lib\\site-packages (from requests->py4cytoscape) (2021.10.8)\n"
      ]
     },
     "metadata": {},
     "output_type": "display_data"
    },
    {
     "name": "stdout",
     "output_type": "stream",
     "text": [
      "Loading Javascript client ... 91f72454-cb23-432c-972e-8f8f956db321 on https://jupyter-bridge.cytoscape.org\n"
     ]
    },
    {
     "data": {
      "application/javascript": "var Channel = \"91f72454-cb23-432c-972e-8f8f956db321\"; \n\nvar JupyterBridge = \"https://jupyter-bridge.cytoscape.org\"; \n\n  /*\n    These functions serve as a connector between a remote Jupyter server and Cytoscape.\n    They run in the user's browser, which also shows the Jupyter Notebook.\n\n    A remote Jupyter Notebook call to the py4cytoscape package is forwarded to the Jupyter Bridge,\n    which is a standalone server. The functions in this connector execute in the Jupyter Notebook\n    browser, which executes on the same PC as Cytoscape. So, that's 4 components: (A) remote\n    Jupyter Notebook, (B) separate Jupyter Bridge server, (C) this browser-based component, and\n    (D) Cytoscape. (A) is on a remote server, (B) is on a different remote server, and (C) and (D)\n    are on the user's PC.\n\n    (A) calls its py4cytoscape module, which forwards the request (in a JSON wrapper) to (B).\n    (C) picks up the request from (B), unpacks the request and forwards it to (D). (C) awaits a\n    reply from (D), and when it gets it, it forwards the reply (in a JSON wrapper) to (B).\n    (A)'s py4cytoscape module picks up the reply on (B) when it becomes available, unpacks it,\n    and returns it to (A).\n\n    A Jupyter Notebook can talk to only one Cytoscape (i.e., the one on the machine running the\n    Jupyter Notebook browser), and Cytoscape should be called by only one Jupyter Notebook. The\n    Jupyter Bridge differentiates between Notebook-Cytoscape conversations via a channel UUID.\n    The UUID is prepended to this browser component by py4Cytoscape, and the component is\n    started by the Jupyter Notebook. (I wish py4Cytoscape could start the component, too, but I\n    haven't figured out how to do that yet, so startup code *is* required in the Jupyter\n    Notebook.)\n\n    Note that for the case of a Jupyter server running on the same machine as Cytoscape, this\n    bridge isn't necessary because the Jupyter server's HTTP calls can easily connect to\n    Cytoscape over a localhost socket. So, the combination of Jupyter Bridge and this browser\n    component solves the problem of a Jupyter server (e.g., Google's Colab) that can't\n    connect to Cytoscape that sits behind a firewall.\n\n    The request represents an HTTP call that py4cytoscape would normally make via HTTP directly\n    to Cytoscape via localhost when both py4cytoscape and Cytoscape are running on the same machine.\n */\n\nconst VERSION = '0.0.2'\n\nvar showDebug; // Flag indicating whether to show Jupyter-bridge progress\nif (typeof showDebug === 'undefined') {\n    showDebug = false\n}\nif (showDebug) {\n    alert(\"Starting Jupyter-bridge browser component\")\n}\n\n//const JupyterBridge = 'http://127.0.0.1:5000' // for testing against local Jupyter-bridge\nvar JupyterBridge; // URL of Jupyter-bridge server could be defined by assignment pre-pended to this file\nif (typeof JupyterBridge === 'undefined') {\n    JupyterBridge = 'https://jupyter-bridge.cytoscape.org' // for production\n}\nvar Channel; // Unique constant that could be defined by assignment pre-pended to this file\nif (typeof Channel === 'undefined') { // ... but if not assigned, use a debugging value\n    Channel = 1\n}\n\n\nvar httpR = new XMLHttpRequest(); // for sending reply to Jupyter-bridge\nvar httpRE = new XMLHttpRequest(); // for sending backup error reply to Jupyter-bridge\nvar httpC = new XMLHttpRequest(); // for sending command to Cytoscape\nvar httpJ = new XMLHttpRequest(); // for fetching request from Jupyter-bridge\n\nconst HTTP_OK = 200\nconst HTTP_SYS_ERR = 500\nconst HTTP_TIMEOUT = 408\nconst HTTP_TOO_MANY = 429\n\n\n /* This function is useful if we want to rewrite the incoming URL to resolve just to our local one.\n    Doing this stops the Jupyter component from abusing this client to call out to endpoints other\n    than local Cytoscape. On the other hand, it makes it hard to detect when the Jupyter component\n    has specified a genuinely bad URL and really should get an error result. For now, we'll execute\n    the Jupyter-supplied URL and return the result, whatever it may be.\n\nconst LocalCytoscape = 'http://127.0.0.1:1234'\n\nfunction parseURL(url) {\n    var reURLInformation = new RegExp([\n        '^(https?:)//', // protocol\n        '(([^:/?#]*)(?::([0-9]+))?)', // host (hostname and port)\n        '(/{0,1}[^?#]*)', // pathname\n        '(\\\\?[^#]*|)', // search\n        '(#.*|)$' // hash\n    ].join(''));\n    var match = url.match(reURLInformation);\n    return match && {\n        url: url,\n        protocol: match[1],\n        host: match[2],\n        hostname: match[3],\n        port: match[4],\n        pathname: match[5],\n        search: match[6],\n        hash: match[7]\n    }\n}\n*/\n\nfunction replyCytoscape(replyStatus, replyStatusText, replyText) {\n\n    // Clean up after Jupyter bridge accepts reply\n    httpR.onreadystatechange = function() {\n        if (httpR.readyState === 4) {\n            if (showDebug) {\n                console.log(' status from queue_reply: ' + httpR.status + ', reply: ' + httpR.responseText)\n            }\n        }\n    }\n\n    httpR.onerror = function() {\n        // Clean up after Jupyter bridge accepts backup reply\n        httpRE.onreadystatechange = function() {\n            if (httpRE.readyState === 4) {\n                if (showDebug) {\n                    console.log(' status from backup queue_reply: ' + httpRE.status + ', reply: ' + httpRE.responseText)\n                }\n            }\n        }\n\n        if (showDebug) {\n            console.log(' error from queue_reply -- could be Jupyter-Bridge server reject')\n        }\n        var errReply = {'status': HTTP_SYS_ERR, 'reason': 'Jupyter-Bridge rejected reply', 'text': 'Possibly reply is too long for Jupyter-Bridge server'}\n        httpRE.open('POST', jupyterBridgeURL, true)\n        httpRE.setRequestHeader('Content-Type', 'text/plain')\n        httpRE.send(JSON.stringify(errReply))\n    }\n\n    var reply = {'status': replyStatus, 'reason': replyStatusText, 'text': replyText}\n\n    // Send reply to Jupyter bridge\n    var jupyterBridgeURL = JupyterBridge + '/queue_reply?channel=' + Channel\n    if (showDebug) {\n        console.log('Starting queue to Jupyter bridge: ' + jupyterBridgeURL)\n    }\n    httpR.open('POST', jupyterBridgeURL, true)\n    httpR.setRequestHeader('Content-Type', 'text/plain')\n    httpR.send(JSON.stringify(reply))\n}\n\nfunction callCytoscape(callSpec) {\n\n    // Captures Cytoscape reply and sends it on\n    httpC.onreadystatechange = function() {\n        if (httpC.readyState === 4) {\n            if (showDebug) {\n                console.log(' status from CyREST: ' + httpC.status + ', statusText: ' + httpC.statusText + ', reply: ' + httpC.responseText)\n            }\n            // Note that httpC.status is 0 if the URL can't be reached *OR* there is a CORS violation.\n            // I wish I could tell the difference because for a CORS violation, I'd return a 404,\n            // which would roughly match what Python's native request package would return.\n            // The practical consequence is that the ultimate caller (e.g., py4cytoscape)\n            // returns different exceptions, depending on wither this module is doing the\n            // HTTP operation or the native Python requests package is. This is minor, but\n            // messes up tests that verify the exception type.\n            replyCytoscape(httpC.status, httpC.statusText, httpC.responseText)\n            waitOnJupyterBridge()\n        }\n    }\n\n//  Build up request to Cytoscape, making sure host is local.\n//    Too heavy handed: localURL = LocalCytoscape + parseURL(callSpec.url).pathname\n    var localURL = callSpec.url // Try using what was passed in ... is there a security risk??\n\n    if (showDebug) {\n        console.log('Command to CyREST: ' + callSpec.command + ' (' + localURL + ')')\n        if (callSpec.params) {\n            console.log(' params: ' + JSON.stringify(callSpec.params))\n        }\n        if (callSpec.headers) {\n            console.log(' header: ' + JSON.stringify(callSpec.headers))\n        }\n        if (callSpec.data) {\n            console.log('   data: ' + JSON.stringify(callSpec.data))\n        }\n    }\n\n    if (callSpec.command === 'webbrowser') {\n        if (window.open(callSpec.url)) {\n            replyCytoscape(HTTP_OK, 'OK', '')\n        } else {\n            replyCytoscape(HTTP_SYS_ERR, 'BAD BROWSER OPEN', '')\n        }\n        waitOnJupyterBridge()\n    } else if (callSpec.command === 'version') {\n        replyCytoscape(HTTP_OK, 'OK',\n            JSON.stringify({\"jupyterBridgeVersion\": VERSION}))\n        waitOnJupyterBridge()\n    } else {\n        var joiner = '?'\n        for (let param in callSpec.params) {\n            localURL = localURL + joiner + param + '=' + encodeURIComponent(callSpec.params[param])\n            joiner = '&'\n        }\n\n        httpC.open(callSpec.command, localURL, true)\n        for (let header in callSpec.headers) {\n            httpC.setRequestHeader(header, callSpec.headers[header])\n        }\n\n        // Send request to Cytoscape ... reply goes to onreadystatechange handler\n        httpC.send(JSON.stringify(callSpec.data))\n    }\n}\n\nfunction waitOnJupyterBridge() {\n\n    // Captures request from Jupyter bridge\n    httpJ.onreadystatechange = function() {\n        if (httpJ.readyState === 4) {\n            if (showDebug) {\n                console.log(' status from dequeue_request: ' + httpJ.status + ', reply: ' + httpJ.responseText)\n            }\n            try {\n                if (httpJ.status == HTTP_TOO_MANY) {\n                    // Nothing more to do ... the browser has created too many listeners,\n                    // and it's time to stop listening because the server saw a listener\n                    // listening on this channel before we got there.\n                    console.log('  shutting down because of redundant reader on channel: ' + Channel)\n                } else {\n                    if (httpJ.status === HTTP_TIMEOUT) {\n                        waitOnJupyterBridge()\n                    } else {\n                        callCytoscape(JSON.parse(httpJ.responseText))\n                    }\n                }\n            } catch(err) {\n                if (showDebug) {\n                    console.log(' exception calling Cytoscape: ' + err)\n                }\n                // Bad responseText means something bad happened that we don't understand.\n                // Go wait on another request, as there's nothing to call Cytoscape with.\n                waitOnJupyterBridge()\n            }\n        }\n    }\n\n    // Wait for request from Jupyter bridge\n    var jupyterBridgeURL = JupyterBridge + '/dequeue_request?channel=' + Channel\n    if (showDebug) {\n        console.log('Starting dequeue on Jupyter bridge: ' + jupyterBridgeURL)\n    }\n    httpJ.open('GET', jupyterBridgeURL, true)\n    httpJ.send()\n}\n\n// This kicks off a loop that ends by calling waitOnJupyterBridge again. This first call\n// ejects any dead readers before we start a read\nwaitOnJupyterBridge() // Wait for message from Jupyter bridge, execute it, and return reply\n\nif (showDebug) {\n    alert(\"Jupyter-bridge browser component is started on \" + JupyterBridge + ', channel ' + Channel)\n}\n",
      "text/plain": [
       "<IPython.core.display.Javascript object>"
      ]
     },
     "execution_count": 1,
     "metadata": {},
     "output_type": "execute_result"
    }
   ],
   "source": [
    "import requests\n",
    "exec(requests.get(\"https://raw.githubusercontent.com/cytoscape/jupyter-bridge/master/client/p4c_init.py\").text)\n",
    "IPython.display.Javascript(_PY4CYTOSCAPE_BROWSER_CLIENT_JS) # Start browser client"
   ]
  },
  {
   "cell_type": "markdown",
   "id": "9298c003",
   "metadata": {},
   "source": [
    "## py4cytoscapeをインポート\n",
    "\n",
    "Cytoscapeをあらかじめ開いておき、py4cytoscapeを使いCytoscapeと接続できているか確認します。\n",
    "\n"
   ]
  },
  {
   "cell_type": "code",
   "execution_count": 2,
   "id": "5ab1da5d",
   "metadata": {},
   "outputs": [
    {
     "name": "stdout",
     "output_type": "stream",
     "text": [
      "You are connected to Cytoscape!\n"
     ]
    },
    {
     "data": {
      "text/plain": [
       "{'apiVersion': 'v1',\n",
       " 'cytoscapeVersion': '3.11.0-SNAPSHOT',\n",
       " 'automationAPIVersion': '1.12.0',\n",
       " 'py4cytoscapeVersion': '1.12.0'}"
      ]
     },
     "execution_count": 2,
     "metadata": {},
     "output_type": "execute_result"
    }
   ],
   "source": [
    "import py4cytoscape as p4c\n",
    "p4c.cytoscape_ping()\n",
    "p4c.cytoscape_version_info()"
   ]
  },
  {
   "cell_type": "markdown",
   "id": "370a1fa5",
   "metadata": {},
   "source": [
    "## ネットワーク（sif）、ノード属性（tsv）をCytoscapeにインポート"
   ]
  },
  {
   "cell_type": "code",
   "execution_count": 3,
   "id": "3ff2e619",
   "metadata": {},
   "outputs": [],
   "source": [
    "import os\n",
    "import sys\n",
    "import pandas as pd"
   ]
  },
  {
   "cell_type": "code",
   "execution_count": 4,
   "id": "16868e01",
   "metadata": {},
   "outputs": [
    {
     "data": {
      "text/plain": [
       "{'networks': [128], 'views': [9086]}"
      ]
     },
     "execution_count": 4,
     "metadata": {},
     "output_type": "execute_result"
    }
   ],
   "source": [
    "#ネットワークファイルを必ず先にインポートします\n",
    "p4c.import_network_from_file('7network.sif')"
   ]
  },
  {
   "cell_type": "code",
   "execution_count": 5,
   "id": "988936ae",
   "metadata": {},
   "outputs": [
    {
     "name": "stdout",
     "output_type": "stream",
     "text": [
      "       ID      所属  コミュニティ\n",
      "0    2104   第5開発部       3\n",
      "1    2304   第2開発部       2\n",
      "2    2301   第1開発部       3\n",
      "3     819  コーポレート       4\n",
      "4     822  コーポレート       4\n",
      "..    ...     ...     ...\n",
      "142   127   第2開発部       2\n",
      "143   115  コーポレート       0\n",
      "144   221   第3開発部       1\n",
      "145   147   第4開発部       0\n",
      "146    35   第4開発部       0\n",
      "\n",
      "[147 rows x 3 columns]\n"
     ]
    }
   ],
   "source": [
    "#ノード属性のtsvファイルをpandasで読みます。\n",
    "#tsvファイルはTabで分けられているので、tab区切りにして読み込みます。\n",
    "#ファイルに日本語を含むので、文字化けを無くすためutf-8で読み込ませます。\n",
    "node7 = pd.read_csv('7node.tsv', sep='\\t', encoding='utf-8')\n",
    "print(node7)"
   ]
  },
  {
   "cell_type": "code",
   "execution_count": 6,
   "id": "603bc286",
   "metadata": {},
   "outputs": [
    {
     "name": "stdout",
     "output_type": "stream",
     "text": [
      "ID         int64\n",
      "所属        object\n",
      "コミュニティ     int64\n",
      "dtype: object\n"
     ]
    }
   ],
   "source": [
    "#なかなかtsvファイルをCytoscapeに渡すことができず原因を調べたところ、\n",
    "#原因はtsvファイルのID列の型が整数型になっていることでした。\n",
    "print(node7.dtypes)\n"
   ]
  },
  {
   "cell_type": "code",
   "execution_count": 7,
   "id": "48486a0c",
   "metadata": {},
   "outputs": [
    {
     "name": "stdout",
     "output_type": "stream",
     "text": [
      "ID        object\n",
      "所属        object\n",
      "コミュニティ     int64\n",
      "dtype: object\n"
     ]
    }
   ],
   "source": [
    "#IDを文字列に変更させます（int64 → object）\n",
    "node7['ID'] = node7['ID'].astype(str)\n",
    "print(node7.dtypes)\n"
   ]
  },
  {
   "cell_type": "code",
   "execution_count": 8,
   "id": "3f911f27",
   "metadata": {},
   "outputs": [
    {
     "data": {
      "text/plain": [
       "'Success: Data loaded in defaultnode table'"
      ]
     },
     "execution_count": 8,
     "metadata": {},
     "output_type": "execute_result"
    }
   ],
   "source": [
    "#pandasで読み込ませた属性tsvファイルをCytoscapeに渡す\n",
    "p4c.load_table_data(node7, data_key_column='ID')"
   ]
  },
  {
   "cell_type": "markdown",
   "id": "ab8df966",
   "metadata": {},
   "source": [
    "## py4cytoscapeを使いグラフの見た目を調整する"
   ]
  },
  {
   "cell_type": "code",
   "execution_count": 9,
   "id": "da738bd6",
   "metadata": {},
   "outputs": [
    {
     "data": {
      "image/png": "[encoded data removed]",
      "text/plain": [
       "<IPython.core.display.Image object>"
      ]
     },
     "execution_count": 9,
     "metadata": {},
     "output_type": "execute_result"
    }
   ],
   "source": [
    "#現時点のグラフ\n",
    "p4c.notebook_export_show_image()"
   ]
  },
  {
   "cell_type": "code",
   "execution_count": 10,
   "id": "b4e47553",
   "metadata": {},
   "outputs": [
    {
     "name": "stdout",
     "output_type": "stream",
     "text": [
      "style_name not specified, so updating \"default\" style.\n",
      "style_name not specified, so updating \"default\" style.\n",
      "style_name not specified, so updating \"default\" style.\n"
     ]
    },
    {
     "data": {
      "text/plain": [
       "''"
      ]
     },
     "execution_count": 10,
     "metadata": {},
     "output_type": "execute_result"
    }
   ],
   "source": [
    "p4c.set_visual_style('default')\n",
    "# force-directed レイアウトでノード間隔を広げる\n",
    "p4c.layout_network('force-directed defaultSpringLength=500')\n",
    "# ノードのサイズを小さくする\n",
    "p4c.set_node_size_default(40)\n",
    "#エッジの太さを細くする\n",
    "p4c.set_edge_line_width_default(1)"
   ]
  },
  {
   "cell_type": "code",
   "execution_count": null,
   "id": "38291147",
   "metadata": {},
   "outputs": [
    {
     "name": "stdout",
     "output_type": "stream",
     "text": [
      "['第5開発部' '第2開発部' '第1開発部' 'コーポレート' '第3開発部' '第4開発部' 'システム開発部']\n"
     ]
    }
   ],
   "source": [
    "print(node7['所属'].unique())"
   ]
  },
  {
   "cell_type": "code",
   "execution_count": null,
   "id": "b440efa5",
   "metadata": {},
   "outputs": [],
   "source": []
  }
 ],
 "metadata": {
  "kernelspec": {
   "display_name": "Python 3",
   "language": "python",
   "name": "python3"
  },
  "language_info": {
   "codemirror_mode": {
    "name": "ipython",
    "version": 3
   },
   "file_extension": ".py",
   "mimetype": "text/x-python",
   "name": "python",
   "nbconvert_exporter": "python",
   "pygments_lexer": "ipython3",
   "version": "3.10.4"
  }
 },
 "nbformat": 4,
 "nbformat_minor": 5
}
