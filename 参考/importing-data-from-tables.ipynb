{
 "cells": [
  {
   "cell_type": "markdown",
   "metadata": {
    "colab_type": "text",
    "id": "view-in-github"
   },
   "source": [
    "<a href=\"https://colab.research.google.com/github/cytoscape/cytoscape-automation/blob/master/for-scripters/Python/importing-data-from-tables.ipynb\" target=\"_parent\"><img src=\"https://colab.research.google.com/assets/colab-badge.svg\" alt=\"Open In Colab\"/></a>"
   ]
  },
  {
   "cell_type": "markdown",
   "metadata": {
    "id": "hZYW3_qkx7V0"
   },
   "source": [
    "# Importing Data From Tables\n",
    "Kozo Nishida and Barry Demchak\n",
    "\n",
    "2025-01-13\n",
    "\n",
    "Cytoscape supports the ability to link data to networks as node and edge attributes, enabling data-driven network visualization. This tutorial describes how to load expression data from a spreadsheet, and how to link it to already loaded networks.\n",
    "\n",
    "## Installation\n",
    "\n",
    "First, launch [Cytoscape Desktop](https://cytoscape.org/) and install the [FileTransfer App](http://apps.cytoscape.org/apps/filetransfer).\n",
    "\n",
    "Then run the following chunk of code below to install the py4cytoscape module."
   ]
  },
  {
   "cell_type": "code",
   "execution_count": 20,
   "metadata": {
    "id": "i7b4ULFnX3lY"
   },
   "outputs": [],
   "source": [
    "%%capture\n",
    "!python3 -m pip install python-igraph requests pandas networkx\n",
    "!python3 -m pip install py4cytoscape"
   ]
  },
  {
   "cell_type": "markdown",
   "metadata": {
    "id": "VRE-1NN8zwnP"
   },
   "source": [
    "If you are using a remote notebook environment such as Google Colab, please execute the cell below. (If you're running on your local notebook, you don't need to do that.)\n",
    "\n"
   ]
  },
  {
   "cell_type": "code",
   "execution_count": 21,
   "metadata": {
    "id": "ZWRPoertzxD7"
   },
   "outputs": [
    {
     "name": "stdout",
     "output_type": "stream",
     "text": [
      "Skip reloading Javascript client ... 0b2e1f96-3f0f-4071-83fb-d173539ec544 on https://jupyter-bridge.cytoscape.org\n"
     ]
    },
    {
     "data": {
      "application/javascript": "",
      "text/plain": [
       "<IPython.core.display.Javascript object>"
      ]
     },
     "execution_count": 21,
     "metadata": {},
     "output_type": "execute_result"
    }
   ],
   "source": [
    "#_PY4CYTOSCAPE = 'git+https://github.com/cytoscape/py4cytoscape@1.11.0' # optional\n",
    "import requests\n",
    "exec(requests.get(\"https://raw.githubusercontent.com/cytoscape/jupyter-bridge/master/client/p4c_init.py\").text)\n",
    "IPython.display.Javascript(_PY4CYTOSCAPE_BROWSER_CLIENT_JS) # Start browser client"
   ]
  },
  {
   "cell_type": "code",
   "execution_count": 22,
   "metadata": {
    "id": "pIoVXGsQ2m00"
   },
   "outputs": [],
   "source": [
    "import IPython\n",
    "import py4cytoscape as p4c"
   ]
  },
  {
   "cell_type": "code",
   "execution_count": 23,
   "metadata": {},
   "outputs": [],
   "source": [
    "import pandas as pd"
   ]
  },
  {
   "cell_type": "code",
   "execution_count": 24,
   "metadata": {},
   "outputs": [
    {
     "name": "stderr",
     "output_type": "stream",
     "text": [
      "In get_network_suid(): Network does not exist for name \"test\"\n"
     ]
    },
    {
     "ename": "CyError",
     "evalue": "In get_network_suid(): Network does not exist for name \"test\"",
     "output_type": "error",
     "traceback": [
      "\u001b[31m---------------------------------------------------------------------------\u001b[39m",
      "\u001b[31mCyError\u001b[39m                                   Traceback (most recent call last)",
      "\u001b[36mCell\u001b[39m\u001b[36m \u001b[39m\u001b[32mIn[24]\u001b[39m\u001b[32m, line 2\u001b[39m\n\u001b[32m      1\u001b[39m data = pd.DataFrame(data={\u001b[33m'\u001b[39m\u001b[33mid\u001b[39m\u001b[33m'\u001b[39m:[\u001b[33m'\u001b[39m\u001b[33mYDL194W\u001b[39m\u001b[33m'\u001b[39m,\u001b[33m'\u001b[39m\u001b[33mYDR277C\u001b[39m\u001b[33m'\u001b[39m,\u001b[33m'\u001b[39m\u001b[33mYBR043C\u001b[39m\u001b[33m'\u001b[39m], \u001b[33m'\u001b[39m\u001b[33mnewcol\u001b[39m\u001b[33m'\u001b[39m:[\u001b[33m'\u001b[39m\u001b[33mbob\u001b[39m\u001b[33m'\u001b[39m,\u001b[32m2\u001b[39m,\u001b[32m3\u001b[39m]})\n\u001b[32m----> \u001b[39m\u001b[32m2\u001b[39m \u001b[43mp4c\u001b[49m\u001b[43m.\u001b[49m\u001b[43mload_table_data\u001b[49m\u001b[43m(\u001b[49m\u001b[43mdata\u001b[49m\u001b[43m,\u001b[49m\u001b[43m \u001b[49m\u001b[43mdata_key_column\u001b[49m\u001b[43m=\u001b[49m\u001b[33;43m'\u001b[39;49m\u001b[33;43mid\u001b[39;49m\u001b[33;43m'\u001b[39;49m\u001b[43m,\u001b[49m\u001b[43m \u001b[49m\u001b[43mtable\u001b[49m\u001b[43m=\u001b[49m\u001b[33;43m'\u001b[39;49m\u001b[33;43mnode\u001b[39;49m\u001b[33;43m'\u001b[39;49m\u001b[43m,\u001b[49m\u001b[43m \u001b[49m\u001b[43mtable_key_column\u001b[49m\u001b[43m=\u001b[49m\u001b[33;43m'\u001b[39;49m\u001b[33;43mname\u001b[39;49m\u001b[33;43m'\u001b[39;49m\u001b[43m,\u001b[49m\u001b[43m \u001b[49m\u001b[43mnetwork\u001b[49m\u001b[43m=\u001b[49m\u001b[33;43m'\u001b[39;49m\u001b[33;43mtest\u001b[39;49m\u001b[33;43m'\u001b[39;49m\u001b[43m)\u001b[49m\n",
      "\u001b[36mFile \u001b[39m\u001b[32m~/py_venvs/kadai5/.venv1/lib/python3.12/site-packages/py4cytoscape/py4cytoscape_logger.py:133\u001b[39m, in \u001b[36mcy_log.<locals>.wrapper_log\u001b[39m\u001b[34m(*args, **kwargs)\u001b[39m\n\u001b[32m    131\u001b[39m     \u001b[38;5;28;01mreturn\u001b[39;00m log_return(func, value)\n\u001b[32m    132\u001b[39m \u001b[38;5;28;01mexcept\u001b[39;00m \u001b[38;5;167;01mException\u001b[39;00m \u001b[38;5;28;01mas\u001b[39;00m e:\n\u001b[32m--> \u001b[39m\u001b[32m133\u001b[39m     \u001b[43mlog_exception\u001b[49m\u001b[43m(\u001b[49m\u001b[43mfunc\u001b[49m\u001b[43m,\u001b[49m\u001b[43m \u001b[49m\u001b[43me\u001b[49m\u001b[43m)\u001b[49m\n\u001b[32m    134\u001b[39m \u001b[38;5;28;01mfinally\u001b[39;00m:\n\u001b[32m    135\u001b[39m     log_finally()\n",
      "\u001b[36mFile \u001b[39m\u001b[32m~/py_venvs/kadai5/.venv1/lib/python3.12/site-packages/py4cytoscape/py4cytoscape_logger.py:130\u001b[39m, in \u001b[36mcy_log.<locals>.wrapper_log\u001b[39m\u001b[34m(*args, **kwargs)\u001b[39m\n\u001b[32m    128\u001b[39m log_incoming(func, *args, **kwargs)\n\u001b[32m    129\u001b[39m \u001b[38;5;28;01mtry\u001b[39;00m:\n\u001b[32m--> \u001b[39m\u001b[32m130\u001b[39m     value = \u001b[43mfunc\u001b[49m\u001b[43m(\u001b[49m\u001b[43m*\u001b[49m\u001b[43margs\u001b[49m\u001b[43m,\u001b[49m\u001b[43m \u001b[49m\u001b[43m*\u001b[49m\u001b[43m*\u001b[49m\u001b[43mkwargs\u001b[49m\u001b[43m)\u001b[49m \u001b[38;5;66;03m# Call function being logged\u001b[39;00m\n\u001b[32m    131\u001b[39m     \u001b[38;5;28;01mreturn\u001b[39;00m log_return(func, value)\n\u001b[32m    132\u001b[39m \u001b[38;5;28;01mexcept\u001b[39;00m \u001b[38;5;167;01mException\u001b[39;00m \u001b[38;5;28;01mas\u001b[39;00m e:\n",
      "\u001b[36mFile \u001b[39m\u001b[32m~/py_venvs/kadai5/.venv1/lib/python3.12/site-packages/py4cytoscape/tables.py:446\u001b[39m, in \u001b[36mload_table_data\u001b[39m\u001b[34m(data, data_key_column, table, table_key_column, namespace, network, base_url)\u001b[39m\n\u001b[32m    443\u001b[39m \u001b[38;5;28;01mif\u001b[39;00m \u001b[38;5;28mtype\u001b[39m(table_key_column) \u001b[38;5;129;01mis\u001b[39;00m \u001b[38;5;129;01mnot\u001b[39;00m \u001b[38;5;28mstr\u001b[39m:\n\u001b[32m    444\u001b[39m     \u001b[38;5;28;01mraise\u001b[39;00m CyError(\u001b[33m'\u001b[39m\u001b[33mtable_key_column must be the name of a single column.\u001b[39m\u001b[33m'\u001b[39m)\n\u001b[32m--> \u001b[39m\u001b[32m446\u001b[39m net_suid = \u001b[43mnetworks\u001b[49m\u001b[43m.\u001b[49m\u001b[43mget_network_suid\u001b[49m\u001b[43m(\u001b[49m\u001b[43mnetwork\u001b[49m\u001b[43m,\u001b[49m\u001b[43m \u001b[49m\u001b[43mbase_url\u001b[49m\u001b[43m=\u001b[49m\u001b[43mbase_url\u001b[49m\u001b[43m)\u001b[49m\n\u001b[32m    447\u001b[39m table_key_column_values = get_table_columns(table=table, namespace=namespace, columns=table_key_column,\n\u001b[32m    448\u001b[39m                                             network=net_suid, base_url=base_url)\n\u001b[32m    449\u001b[39m \u001b[38;5;66;03m# TODO: Shouldn't namespace be in this parameter list? R doesn't have it ... I added it\u001b[39;00m\n",
      "\u001b[36mFile \u001b[39m\u001b[32m~/py_venvs/kadai5/.venv1/lib/python3.12/site-packages/py4cytoscape/py4cytoscape_logger.py:133\u001b[39m, in \u001b[36mcy_log.<locals>.wrapper_log\u001b[39m\u001b[34m(*args, **kwargs)\u001b[39m\n\u001b[32m    131\u001b[39m     \u001b[38;5;28;01mreturn\u001b[39;00m log_return(func, value)\n\u001b[32m    132\u001b[39m \u001b[38;5;28;01mexcept\u001b[39;00m \u001b[38;5;167;01mException\u001b[39;00m \u001b[38;5;28;01mas\u001b[39;00m e:\n\u001b[32m--> \u001b[39m\u001b[32m133\u001b[39m     \u001b[43mlog_exception\u001b[49m\u001b[43m(\u001b[49m\u001b[43mfunc\u001b[49m\u001b[43m,\u001b[49m\u001b[43m \u001b[49m\u001b[43me\u001b[49m\u001b[43m)\u001b[49m\n\u001b[32m    134\u001b[39m \u001b[38;5;28;01mfinally\u001b[39;00m:\n\u001b[32m    135\u001b[39m     log_finally()\n",
      "\u001b[36mFile \u001b[39m\u001b[32m~/py_venvs/kadai5/.venv1/lib/python3.12/site-packages/py4cytoscape/py4cytoscape_logger.py:130\u001b[39m, in \u001b[36mcy_log.<locals>.wrapper_log\u001b[39m\u001b[34m(*args, **kwargs)\u001b[39m\n\u001b[32m    128\u001b[39m log_incoming(func, *args, **kwargs)\n\u001b[32m    129\u001b[39m \u001b[38;5;28;01mtry\u001b[39;00m:\n\u001b[32m--> \u001b[39m\u001b[32m130\u001b[39m     value = \u001b[43mfunc\u001b[49m\u001b[43m(\u001b[49m\u001b[43m*\u001b[49m\u001b[43margs\u001b[49m\u001b[43m,\u001b[49m\u001b[43m \u001b[49m\u001b[43m*\u001b[49m\u001b[43m*\u001b[49m\u001b[43mkwargs\u001b[49m\u001b[43m)\u001b[49m \u001b[38;5;66;03m# Call function being logged\u001b[39;00m\n\u001b[32m    131\u001b[39m     \u001b[38;5;28;01mreturn\u001b[39;00m log_return(func, value)\n\u001b[32m    132\u001b[39m \u001b[38;5;28;01mexcept\u001b[39;00m \u001b[38;5;167;01mException\u001b[39;00m \u001b[38;5;28;01mas\u001b[39;00m e:\n",
      "\u001b[36mFile \u001b[39m\u001b[32m~/py_venvs/kadai5/.venv1/lib/python3.12/site-packages/py4cytoscape/networks.py:255\u001b[39m, in \u001b[36mget_network_suid\u001b[39m\u001b[34m(title, base_url)\u001b[39m\n\u001b[32m    253\u001b[39m             network_title = title\n\u001b[32m    254\u001b[39m         \u001b[38;5;28;01melse\u001b[39;00m:\n\u001b[32m--> \u001b[39m\u001b[32m255\u001b[39m             \u001b[38;5;28;01mraise\u001b[39;00m CyError(\u001b[33mf\u001b[39m\u001b[33m'\u001b[39m\u001b[33mNetwork does not exist for name \u001b[39m\u001b[33m\"\u001b[39m\u001b[38;5;132;01m{\u001b[39;00mtitle\u001b[38;5;132;01m}\u001b[39;00m\u001b[33m\"\u001b[39m\u001b[33m'\u001b[39m)\n\u001b[32m    256\u001b[39m \u001b[38;5;28;01melif\u001b[39;00m \u001b[38;5;28misinstance\u001b[39m(title, \u001b[38;5;28mint\u001b[39m):\n\u001b[32m    257\u001b[39m     \u001b[38;5;66;03m# SUID was provided\u001b[39;00m\n\u001b[32m    258\u001b[39m     net_suids = commands.cyrest_get(\u001b[33m'\u001b[39m\u001b[33mnetworks\u001b[39m\u001b[33m'\u001b[39m, base_url=base_url)\n",
      "\u001b[31mCyError\u001b[39m: In get_network_suid(): Network does not exist for name \"test\""
     ]
    }
   ],
   "source": [
    "data = pd.DataFrame(data={'id':['YDL194W','YDR277C','YBR043C'], 'newcol':['bob',2,3]})\n",
    "p4c.load_table_data(data, data_key_column='id', table='node', table_key_column='name', network='test')"
   ]
  },
  {
   "cell_type": "code",
   "execution_count": 25,
   "metadata": {
    "id": "a69FTVdA25GE"
   },
   "outputs": [
    {
     "data": {
      "text/plain": [
       "{'apiVersion': 'v1',\n",
       " 'cytoscapeVersion': '3.10.3',\n",
       " 'automationAPIVersion': '1.11.0',\n",
       " 'py4cytoscapeVersion': '1.11.0',\n",
       " 'jupyterBridgeVersion': '0.0.2'}"
      ]
     },
     "execution_count": 25,
     "metadata": {},
     "output_type": "execute_result"
    }
   ],
   "source": [
    "p4c.cytoscape_version_info()"
   ]
  },
  {
   "cell_type": "code",
   "execution_count": 26,
   "metadata": {
    "id": "FidUktet29Kd"
   },
   "outputs": [
    {
     "data": {
      "text/plain": [
       "{'filePath': 'C:\\\\Users\\\\bb38121075\\\\CytoscapeConfiguration\\\\filetransfer\\\\default_sandbox',\n",
       " 'modifiedTime': '2025-05-09 01:40:39.0059',\n",
       " 'isFile': False}"
      ]
     },
     "execution_count": 26,
     "metadata": {},
     "output_type": "execute_result"
    }
   ],
   "source": [
    "p4c.sandbox_get_file_info('.')"
   ]
  },
  {
   "cell_type": "markdown",
   "metadata": {
    "id": "qK3Cr81zywcT"
   },
   "source": [
    "## Loading Network\n",
    "\n",
    "*   Import **galFiltered network**."
   ]
  },
  {
   "cell_type": "code",
   "execution_count": 27,
   "metadata": {
    "id": "3kDWKvKyx6Zy"
   },
   "outputs": [
    {
     "name": "stdout",
     "output_type": "stream",
     "text": [
      "--2025-05-09 01:43:02--  https://raw.githubusercontent.com/cytoscape/RCy3/master/inst/extdata/galFiltered.sif\n"
     ]
    },
    {
     "name": "stdout",
     "output_type": "stream",
     "text": [
      "raw.githubusercontent.com (raw.githubusercontent.com) をDNSに問いあわせています... 185.199.108.133, 185.199.109.133, 185.199.110.133, ...\n",
      "raw.githubusercontent.com (raw.githubusercontent.com)|185.199.108.133|:443 に接続しています... 接続しました。\n",
      "HTTP による接続要求を送信しました、応答を待っています... 200 OK\n",
      "長さ: 6822 (6.7K) [text/plain]\n",
      "‘galFiltered.sif.1’ に保存中\n",
      "\n",
      "galFiltered.sif.1   100%[===================>]   6.66K  --.-KB/s    in 0s      \n",
      "\n",
      "2025-05-09 01:43:02 (24.5 MB/s) - ‘galFiltered.sif.1’ へ保存完了 [6822/6822]\n",
      "\n"
     ]
    }
   ],
   "source": [
    "!wget https://raw.githubusercontent.com/cytoscape/RCy3/master/inst/extdata/galFiltered.sif"
   ]
  },
  {
   "cell_type": "code",
   "execution_count": 28,
   "metadata": {
    "id": "t9FvU6goYU8Q"
   },
   "outputs": [
    {
     "name": "stdout",
     "output_type": "stream",
     "text": [
      "YKR026C pp YGL122C\n",
      "YGR218W pp YGL097W\n",
      "YGL097W pp YOR204W\n",
      "YLR249W pp YPR080W\n",
      "YLR249W pp YBR118W\n",
      "YLR293C pp YGL097W\n",
      "YMR146C pp YDR429C\n",
      "YDR429C pp YFL017C\n",
      "YPR080W pp YAL003W\n",
      "YBR118W pp YAL003W\n"
     ]
    }
   ],
   "source": [
    "!head galFiltered.sif"
   ]
  },
  {
   "cell_type": "code",
   "execution_count": 29,
   "metadata": {
    "id": "z7yKhRCH3Qc8"
   },
   "outputs": [
    {
     "data": {
      "text/plain": [
       "{'filePath': 'C:\\\\Users\\\\bb38121075\\\\CytoscapeConfiguration\\\\filetransfer\\\\default_sandbox\\\\galFiltered.sif'}"
      ]
     },
     "execution_count": 29,
     "metadata": {},
     "output_type": "execute_result"
    }
   ],
   "source": [
    "p4c.sandbox_send_to(\"galFiltered.sif\")"
   ]
  },
  {
   "cell_type": "code",
   "execution_count": 30,
   "metadata": {
    "id": "RlDVbTrqYYaW"
   },
   "outputs": [
    {
     "data": {
      "text/plain": [
       "{'networks': [11086], 'views': [13189]}"
      ]
     },
     "execution_count": 30,
     "metadata": {},
     "output_type": "execute_result"
    }
   ],
   "source": [
    "p4c.import_network_from_file(\"galFiltered.sif\")"
   ]
  },
  {
   "cell_type": "markdown",
   "metadata": {
    "id": "STIa0ZT_0R70"
   },
   "source": [
    "\n",
    "*   When the network first opens, the entire network may not visible because of the default zoom factor used. To see the whole network,\n"
   ]
  },
  {
   "cell_type": "code",
   "execution_count": 31,
   "metadata": {
    "id": "j1gV6wXZgw1X"
   },
   "outputs": [
    {
     "data": {
      "text/plain": [
       "{}"
      ]
     },
     "execution_count": 31,
     "metadata": {},
     "output_type": "execute_result"
    }
   ],
   "source": [
    "p4c.fit_content()"
   ]
  },
  {
   "cell_type": "markdown",
   "metadata": {
    "id": "rOwx79A9heYu"
   },
   "source": [
    "\n",
    "*   By default, the \"Prefuse Force Directed Layout\" is applied to organize the layout of the nodes. The default layout can be changed\n"
   ]
  },
  {
   "cell_type": "code",
   "execution_count": 32,
   "metadata": {
    "id": "sFVx_oaWhc6R"
   },
   "outputs": [
    {
     "data": {
      "text/plain": [
       "['attribute-circle',\n",
       " 'stacked-node-layout',\n",
       " 'attribute-grid',\n",
       " 'degree-circle',\n",
       " 'circular',\n",
       " 'attributes-layout',\n",
       " 'kamada-kawai',\n",
       " 'force-directed',\n",
       " 'cose',\n",
       " 'grid',\n",
       " 'hierarchical',\n",
       " 'fruchterman-rheingold',\n",
       " 'isom',\n",
       " 'force-directed-cl']"
      ]
     },
     "execution_count": 32,
     "metadata": {},
     "output_type": "execute_result"
    }
   ],
   "source": [
    "p4c.get_layout_names()"
   ]
  },
  {
   "cell_type": "code",
   "execution_count": 33,
   "metadata": {
    "id": "WcaQ7hvOiAw5"
   },
   "outputs": [
    {
     "data": {
      "text/plain": [
       "{}"
      ]
     },
     "execution_count": 33,
     "metadata": {},
     "output_type": "execute_result"
    }
   ],
   "source": [
    "p4c.layout_network('cose')"
   ]
  },
  {
   "cell_type": "code",
   "execution_count": 34,
   "metadata": {
    "id": "jnCTlcz1iZNl"
   },
   "outputs": [
    {
     "data": {
      "text/plain": [
       "{}"
      ]
     },
     "execution_count": 34,
     "metadata": {},
     "output_type": "execute_result"
    }
   ],
   "source": [
    "p4c.layout_network('force-directed')"
   ]
  },
  {
   "cell_type": "code",
   "execution_count": 35,
   "metadata": {
    "id": "Ro7WdWdQzsBq"
   },
   "outputs": [
    {
     "name": "stderr",
     "output_type": "stream",
     "text": [
      "In export_image(): This file already exists and will not be overwritten: galFiltered.png\n",
      "/home/bb38121075/py_venvs/kadai5/.venv1/lib/python3.12/site-packages/py4cytoscape/network_views.py:400: SyntaxWarning: invalid escape sequence '\\.'\n",
      "  if re.search('\\.' + type_suffix + '$', filename.lower()) is None: filename += '.' + type_suffix\n"
     ]
    },
    {
     "ename": "CyError",
     "evalue": "In export_image(): This file already exists and will not be overwritten: galFiltered.png",
     "output_type": "error",
     "traceback": [
      "\u001b[31m---------------------------------------------------------------------------\u001b[39m",
      "\u001b[31mCyError\u001b[39m                                   Traceback (most recent call last)",
      "\u001b[36mCell\u001b[39m\u001b[36m \u001b[39m\u001b[32mIn[35]\u001b[39m\u001b[32m, line 1\u001b[39m\n\u001b[32m----> \u001b[39m\u001b[32m1\u001b[39m \u001b[43mp4c\u001b[49m\u001b[43m.\u001b[49m\u001b[43mexport_image\u001b[49m\u001b[43m(\u001b[49m\u001b[43mfilename\u001b[49m\u001b[43m=\u001b[49m\u001b[33;43m\"\u001b[39;49m\u001b[33;43mgalFiltered.png\u001b[39;49m\u001b[33;43m\"\u001b[39;49m\u001b[43m)\u001b[49m\n\u001b[32m      2\u001b[39m p4c.sandbox_get_from(\u001b[33m\"\u001b[39m\u001b[33mgalFiltered.png\u001b[39m\u001b[33m\"\u001b[39m)\n\u001b[32m      3\u001b[39m \u001b[38;5;28;01mfrom\u001b[39;00m\u001b[38;5;250m \u001b[39m\u001b[34;01mIPython\u001b[39;00m\u001b[34;01m.\u001b[39;00m\u001b[34;01mdisplay\u001b[39;00m\u001b[38;5;250m \u001b[39m\u001b[38;5;28;01mimport\u001b[39;00m Image\n",
      "\u001b[36mFile \u001b[39m\u001b[32m~/py_venvs/kadai5/.venv1/lib/python3.12/site-packages/py4cytoscape/py4cytoscape_logger.py:133\u001b[39m, in \u001b[36mcy_log.<locals>.wrapper_log\u001b[39m\u001b[34m(*args, **kwargs)\u001b[39m\n\u001b[32m    131\u001b[39m     \u001b[38;5;28;01mreturn\u001b[39;00m log_return(func, value)\n\u001b[32m    132\u001b[39m \u001b[38;5;28;01mexcept\u001b[39;00m \u001b[38;5;167;01mException\u001b[39;00m \u001b[38;5;28;01mas\u001b[39;00m e:\n\u001b[32m--> \u001b[39m\u001b[32m133\u001b[39m     \u001b[43mlog_exception\u001b[49m\u001b[43m(\u001b[49m\u001b[43mfunc\u001b[49m\u001b[43m,\u001b[49m\u001b[43m \u001b[49m\u001b[43me\u001b[49m\u001b[43m)\u001b[49m\n\u001b[32m    134\u001b[39m \u001b[38;5;28;01mfinally\u001b[39;00m:\n\u001b[32m    135\u001b[39m     log_finally()\n",
      "\u001b[36mFile \u001b[39m\u001b[32m~/py_venvs/kadai5/.venv1/lib/python3.12/site-packages/py4cytoscape/py4cytoscape_logger.py:130\u001b[39m, in \u001b[36mcy_log.<locals>.wrapper_log\u001b[39m\u001b[34m(*args, **kwargs)\u001b[39m\n\u001b[32m    128\u001b[39m log_incoming(func, *args, **kwargs)\n\u001b[32m    129\u001b[39m \u001b[38;5;28;01mtry\u001b[39;00m:\n\u001b[32m--> \u001b[39m\u001b[32m130\u001b[39m     value = \u001b[43mfunc\u001b[49m\u001b[43m(\u001b[49m\u001b[43m*\u001b[49m\u001b[43margs\u001b[49m\u001b[43m,\u001b[49m\u001b[43m \u001b[49m\u001b[43m*\u001b[49m\u001b[43m*\u001b[49m\u001b[43mkwargs\u001b[49m\u001b[43m)\u001b[49m \u001b[38;5;66;03m# Call function being logged\u001b[39;00m\n\u001b[32m    131\u001b[39m     \u001b[38;5;28;01mreturn\u001b[39;00m log_return(func, value)\n\u001b[32m    132\u001b[39m \u001b[38;5;28;01mexcept\u001b[39;00m \u001b[38;5;167;01mException\u001b[39;00m \u001b[38;5;28;01mas\u001b[39;00m e:\n",
      "\u001b[36mFile \u001b[39m\u001b[32m~/py_venvs/kadai5/.venv1/lib/python3.12/site-packages/py4cytoscape/network_views.py:410\u001b[39m, in \u001b[36mexport_image\u001b[39m\u001b[34m(filename, type, resolution, units, height, width, zoom, network, base_url, overwrite_file, force_pre_3_10, all_graphics_details, hide_labels, transparent_background, export_text_as_font, orientation, page_size)\u001b[39m\n\u001b[32m    408\u001b[39m \u001b[38;5;28;01melse\u001b[39;00m:\n\u001b[32m    409\u001b[39m     \u001b[38;5;28;01mif\u001b[39;00m use_v10_calls:\n\u001b[32m--> \u001b[39m\u001b[32m410\u001b[39m         \u001b[38;5;28;01mraise\u001b[39;00m CyError(\u001b[33mf\u001b[39m\u001b[33m'\u001b[39m\u001b[33mThis file already exists and will not be overwritten: \u001b[39m\u001b[38;5;132;01m{\u001b[39;00mfilename\u001b[38;5;132;01m}\u001b[39;00m\u001b[33m'\u001b[39m)\n\u001b[32m    411\u001b[39m     \u001b[38;5;28;01melse\u001b[39;00m:\n\u001b[32m    412\u001b[39m         narrate(\u001b[33m'\u001b[39m\u001b[33mThis file already exists. A Cytoscape popup will be generated to confirm overwrite.\u001b[39m\u001b[33m'\u001b[39m)\n",
      "\u001b[31mCyError\u001b[39m: In export_image(): This file already exists and will not be overwritten: galFiltered.png"
     ]
    }
   ],
   "source": [
    "p4c.export_image(filename=\"galFiltered.png\")\n",
    "p4c.sandbox_get_from(\"galFiltered.png\")\n",
    "from IPython.display import Image\n",
    "Image('galFiltered.png')"
   ]
  },
  {
   "cell_type": "markdown",
   "metadata": {
    "id": "w6tbPsB60X-d"
   },
   "source": [
    "## Loading Expression Data\n",
    "\n",
    "The data you are working with is from yeast, the genes **Gal1, Gal4,** and **Gal80** are all yeast transcription factors. Your expression experiments all involve some perturbation of these transcription factor genes.\n",
    "\n",
    "Gal1, Gal4, and Gal80 are also represented in your interaction network, where they are labeled according to yeast locus tags: **Gal1 corresponds to YBR020W, Gal4 to YPL248C, and Gal80 to YML051W.**\n",
    "\n",
    "*   Run the following chunk to view the first few lines. This [galExpData.csv](https://cytoscape.github.io/cytoscape-tutorials/protocols/data/galExpData.csv) is also included with your Cytoscape installation directory, under **sampleData**.\n"
   ]
  },
  {
   "cell_type": "code",
   "execution_count": 36,
   "metadata": {
    "id": "stbkwprm06Z2"
   },
   "outputs": [
    {
     "data": {
      "text/html": [
       "<div>\n",
       "<style scoped>\n",
       "    .dataframe tbody tr th:only-of-type {\n",
       "        vertical-align: middle;\n",
       "    }\n",
       "\n",
       "    .dataframe tbody tr th {\n",
       "        vertical-align: top;\n",
       "    }\n",
       "\n",
       "    .dataframe thead th {\n",
       "        text-align: right;\n",
       "    }\n",
       "</style>\n",
       "<table border=\"1\" class=\"dataframe\">\n",
       "  <thead>\n",
       "    <tr style=\"text-align: right;\">\n",
       "      <th></th>\n",
       "      <th>GENE</th>\n",
       "      <th>COMMON</th>\n",
       "      <th>gal1RGexp</th>\n",
       "      <th>gal4RGexp</th>\n",
       "      <th>gal80Rexp</th>\n",
       "      <th>gal1RGsig</th>\n",
       "      <th>gal4RGsig</th>\n",
       "      <th>gal80Rsig</th>\n",
       "    </tr>\n",
       "  </thead>\n",
       "  <tbody>\n",
       "    <tr>\n",
       "      <th>0</th>\n",
       "      <td>YHR051W</td>\n",
       "      <td>COX6</td>\n",
       "      <td>-0.034</td>\n",
       "      <td>0.111</td>\n",
       "      <td>-0.304</td>\n",
       "      <td>0.375720</td>\n",
       "      <td>0.015624</td>\n",
       "      <td>0.000008</td>\n",
       "    </tr>\n",
       "    <tr>\n",
       "      <th>1</th>\n",
       "      <td>YHR124W</td>\n",
       "      <td>NDT80</td>\n",
       "      <td>-0.090</td>\n",
       "      <td>0.007</td>\n",
       "      <td>-0.348</td>\n",
       "      <td>0.271460</td>\n",
       "      <td>0.964330</td>\n",
       "      <td>0.344760</td>\n",
       "    </tr>\n",
       "    <tr>\n",
       "      <th>2</th>\n",
       "      <td>YKL181W</td>\n",
       "      <td>PRS1</td>\n",
       "      <td>-0.167</td>\n",
       "      <td>-0.233</td>\n",
       "      <td>0.112</td>\n",
       "      <td>0.006271</td>\n",
       "      <td>0.000789</td>\n",
       "      <td>0.144060</td>\n",
       "    </tr>\n",
       "    <tr>\n",
       "      <th>3</th>\n",
       "      <td>YGR072W</td>\n",
       "      <td>UPF3</td>\n",
       "      <td>0.245</td>\n",
       "      <td>-0.471</td>\n",
       "      <td>0.787</td>\n",
       "      <td>0.000410</td>\n",
       "      <td>0.000752</td>\n",
       "      <td>0.000014</td>\n",
       "    </tr>\n",
       "    <tr>\n",
       "      <th>4</th>\n",
       "      <td>YHL020C</td>\n",
       "      <td>OPI1</td>\n",
       "      <td>0.174</td>\n",
       "      <td>-0.015</td>\n",
       "      <td>0.151</td>\n",
       "      <td>0.000140</td>\n",
       "      <td>0.719120</td>\n",
       "      <td>0.015395</td>\n",
       "    </tr>\n",
       "  </tbody>\n",
       "</table>\n",
       "</div>"
      ],
      "text/plain": [
       "      GENE COMMON  gal1RGexp  gal4RGexp  gal80Rexp  gal1RGsig  gal4RGsig  \\\n",
       "0  YHR051W   COX6     -0.034      0.111     -0.304   0.375720   0.015624   \n",
       "1  YHR124W  NDT80     -0.090      0.007     -0.348   0.271460   0.964330   \n",
       "2  YKL181W   PRS1     -0.167     -0.233      0.112   0.006271   0.000789   \n",
       "3  YGR072W   UPF3      0.245     -0.471      0.787   0.000410   0.000752   \n",
       "4  YHL020C   OPI1      0.174     -0.015      0.151   0.000140   0.719120   \n",
       "\n",
       "   gal80Rsig  \n",
       "0   0.000008  \n",
       "1   0.344760  \n",
       "2   0.144060  \n",
       "3   0.000014  \n",
       "4   0.015395  "
      ]
     },
     "execution_count": 36,
     "metadata": {},
     "output_type": "execute_result"
    }
   ],
   "source": [
    "import pandas as pd\n",
    "df=pd.read_csv(\"https://cytoscape.github.io/cytoscape-tutorials/protocols/data/galExpData.csv\")\n",
    "df.head()"
   ]
  },
  {
   "cell_type": "markdown",
   "metadata": {
    "id": "B5KrWl6PkgLp"
   },
   "source": [
    "Note the following information about the file:\n",
    "\n",
    "*   The first line consists of column labels.\n",
    "*   All columns are separated by a single comma character.\n",
    "*   The first column contains node names, and **must match the names of the nodes in your network exactly!**\n",
    "*   The second column contains common locus names. This column is optional, the data is not used by Cytoscape, but including this column makes the format consistent with the output of many analysis packages, and makes the file easier to read.\n",
    "*   The remaining columns contain experimental data, two columns per experiment (one for expression measurement and a second for corresponding significance value), and one line per node. In this case, there are three expression results per node.\n",
    "\n",
    "---\n"
   ]
  },
  {
   "cell_type": "markdown",
   "metadata": {
    "id": "oKIhJTa7nYyv"
   },
   "source": [
    "\n",
    "*   Run the following code chunk to load the **galExpData.csv** file\n",
    "*   You need to set the **Key** column to indicate which column will be used to match with the network key column.\n"
   ]
  },
  {
   "cell_type": "code",
   "execution_count": 37,
   "metadata": {
    "id": "qOg4GU502TVi"
   },
   "outputs": [
    {
     "name": "stderr",
     "output_type": "stream",
     "text": [
      "/home/bb38121075/py_venvs/kadai5/.venv1/lib/python3.12/site-packages/py4cytoscape/tables.py:485: SettingWithCopyWarning: \n",
      "A value is trying to be set on a copy of a slice from a DataFrame.\n",
      "Try using .loc[row_indexer,col_indexer] = value instead\n",
      "\n",
      "See the caveats in the documentation: https://pandas.pydata.org/pandas-docs/stable/user_guide/indexing.html#returning-a-view-versus-a-copy\n",
      "  data_subset[col] = col_val\n"
     ]
    },
    {
     "data": {
      "text/plain": [
       "'Success: Data loaded in defaultnode table'"
      ]
     },
     "execution_count": 37,
     "metadata": {},
     "output_type": "execute_result"
    }
   ],
   "source": [
    "p4c.load_table_data(df, data_key_column=\"GENE\")"
   ]
  },
  {
   "cell_type": "markdown",
   "metadata": {
    "id": "FRvtg6TXtHXC"
   },
   "source": [
    "Now you should see expression values listed in new columns in the **Node Table**. The **Table Panel** has the following features:\n",
    "\n",
    "![Galbrowse3.png](data:image/png;base64,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)"
   ]
  },
  {
   "cell_type": "markdown",
   "metadata": {
    "id": "zD5oNxo4uW01"
   },
   "source": [
    "\n",
    "*   Select a node in the network and the table will update to show only the corresponding row.\n",
    "*   You can limit the columns shown by clicking on the **Show Columns** button ![image.png](data:image/png;base64,iVBORw0KGgoAAAANSUhEUgAAACMAAAAjCAYAAAAe2bNZAAACTElEQVRYCe1Yz6sxURieQtw/QbZ2kr9AKRtKsfEnWLAnCXsUpZS1srBhwUZKyk4WkoWdxMz4rUPS+PXe3nM7n+h+07e53PpGPZ1mxvueZ5455/Q+L8fz/ITnefILMOEEQTjxPA+iKAIhBI7H40uw2+1gNpvBdDoFnB95cJPJhKxWK9hsNlAulyEajUIsFoN4PP4jwPyRSASKxSIsFgvYbreMEOFEUSSoiN/vB41GAxzHvQQqlQq8Xi9VZT6f40i48/lMCoXCSwh896KpVAoOh8MXGQAgwWDwbWQ8Hg9cr9c7mVAo9DYyDocDbrfbnUw4HKZk9Ho9pNNpSCaTkEgkZJHJZOhCVKvVNNbn80E+n5eNwZwsv9FopHEul+tRGUbGYrEA/lC20+kkC/zfaDSCj48PmrRer9PYf4nD/Ha7XZ6MyWSiWxzPHNz7csAt2e12QafT0aSlUomSkYvBZ3iEYH6r1aqQeVBYUeZva0dRRlFGOWee14ByAj8rwq4VZZgSz6OizLMi7Pr/UIYV5GazGS6XC7UO+/0e5ICl43A4/FPpVatVWunJxeAzlt9ms9FKz+l0PtbAzKoYDAZoNpvQ6/Wg0+nIot/vQ61WA61WS5PmcjkYj8eyMZhzMBhAu90GLHHRR7nd7jsZSZII2trvDNYr7mWz2buJEwSBoAlHb81sxytI4ByBQADQ52MDgNpbNP7oddFvt1otqFQqPwr8CjhHo9Ggpn+9Xt+NPzLCtgQSwnaIJEkvw3K5ZES+lGH9GXZ+vGuk/Znf1Ln6BPIO7nbU38FjAAAAAElFTkSuQmCC)  and selecting columns.\n"
   ]
  }
 ],
 "metadata": {
  "colab": {
   "collapsed_sections": [],
   "include_colab_link": true,
   "name": "Importing-data",
   "provenance": []
  },
  "kernelspec": {
   "display_name": ".venv1",
   "language": "python",
   "name": "python3"
  },
  "language_info": {
   "codemirror_mode": {
    "name": "ipython",
    "version": 3
   },
   "file_extension": ".py",
   "mimetype": "text/x-python",
   "name": "python",
   "nbconvert_exporter": "python",
   "pygments_lexer": "ipython3",
   "version": "3.12.3"
  }
 },
 "nbformat": 4,
 "nbformat_minor": 1
}
